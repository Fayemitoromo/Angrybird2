{
  "nbformat": 4,
  "nbformat_minor": 0,
  "metadata": {
    "colab": {
      "provenance": [],
      "authorship_tag": "ABX9TyO5IHThAHhGnxQpFab/djVN",
      "include_colab_link": true
    },
    "kernelspec": {
      "name": "python3",
      "display_name": "Python 3"
    },
    "language_info": {
      "name": "python"
    }
  },
  "cells": [
    {
      "cell_type": "markdown",
      "metadata": {
        "id": "view-in-github",
        "colab_type": "text"
      },
      "source": [
        "<a href=\"https://colab.research.google.com/github/Fayemitoromo/Angrybird2/blob/main/Copy_of_Lab1A_py.ipynb\" target=\"_parent\"><img src=\"https://colab.research.google.com/assets/colab-badge.svg\" alt=\"Open In Colab\"/></a>"
      ]
    },
    {
      "cell_type": "code",
      "execution_count": null,
      "metadata": {
        "colab": {
          "base_uri": "https://localhost:8080/"
        },
        "id": "wnHjQrZfzVry",
        "outputId": "a58e33b4-e487-4dde-dfe6-14822666a265"
      },
      "outputs": [
        {
          "output_type": "stream",
          "name": "stdout",
          "text": [
            "Three...  Two...  One...  Zero... Liftoff!\n",
            "Houston, we have a problem.\n"
          ]
        }
      ],
      "source": [
        "# Program Lab1A.py\n",
        "# Demonstrate the difference between print with and without a newline.\n",
        "# Prints two lines of output representing a rocket countdown.\n",
        "print(\"Three... \", end=\" \")\n",
        "print(\"Two... \", end=\" \")\n",
        "print(\"One... \", end=\" \")\n",
        "print(\"Zero...\", end=\" \")\n",
        "print(\"Liftoff!\")\n",
        "# appears on first line\n",
        "print(\"Houston, we have a problem.\")\n"
      ]
    }
  ]
}